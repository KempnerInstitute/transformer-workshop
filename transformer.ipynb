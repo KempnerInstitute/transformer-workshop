{
 "cells": [
  {
   "cell_type": "markdown",
   "metadata": {},
   "source": [
    "# Imports"
   ]
  },
  {
   "cell_type": "code",
   "execution_count": 3,
   "metadata": {},
   "outputs": [],
   "source": [
    "import torch\n",
    "from torch import nn\n",
    "import torch.nn.functional as F"
   ]
  },
  {
   "cell_type": "markdown",
   "metadata": {},
   "source": [
    "# Tokenization"
   ]
  },
  {
   "cell_type": "markdown",
   "metadata": {},
   "source": [
    "## Character level encoding"
   ]
  },
  {
   "cell_type": "code",
   "execution_count": 2,
   "metadata": {},
   "outputs": [],
   "source": [
    "with open('input.txt', 'r', encoding='utf-8') as f:\n",
    "    text = f.read()\n",
    "\n",
    "# here are all the unique characters that occur in this text\n",
    "chars = sorted(list(set(text)))\n",
    "vocab_size = len(chars)\n",
    "# create a mapping from characters to integers\n",
    "stoi = { ch:i for i,ch in enumerate(chars) }\n",
    "itos = { i:ch for i,ch in enumerate(chars) }\n",
    "encode = lambda s: [stoi[c] for c in s] # encoder: take a string, output a list of integers\n",
    "decode = lambda l: ''.join([itos[i] for i in l]) # decoder: take a list of integers, output a string"
   ]
  },
  {
   "cell_type": "markdown",
   "metadata": {},
   "source": [
    "## BPE"
   ]
  },
  {
   "cell_type": "code",
   "execution_count": null,
   "metadata": {},
   "outputs": [],
   "source": [
    "# BPE algorithm"
   ]
  },
  {
   "cell_type": "markdown",
   "metadata": {},
   "source": [
    "## Prepare splits"
   ]
  },
  {
   "cell_type": "code",
   "execution_count": null,
   "metadata": {},
   "outputs": [],
   "source": [
    "# Train and test splits\n",
    "data = torch.tensor(encode(text), dtype=torch.long)\n",
    "n = int(0.9*len(data)) # first 90% will be train, rest val\n",
    "train_data = data[:n]\n",
    "val_data = data[n:]\n",
    "\n",
    "# data loading\n",
    "def get_batch(split, block_size, batch_size, device='cpu'):\n",
    "    # generate a small batch of data of inputs x and targets y\n",
    "    data = train_data if split == 'train' else val_data\n",
    "    ix = torch.randint(len(data) - block_size, (batch_size,))\n",
    "    x = torch.stack([data[i:i+block_size] for i in ix])\n",
    "    y = torch.stack([data[i+1:i+block_size+1] for i in ix])\n",
    "    x, y = x.to(device), y.to(device)\n",
    "    return x, y\n",
    "\n",
    "@torch.no_grad()\n",
    "def estimate_loss(model, eval_iters=10):\n",
    "    out = {}\n",
    "    model.eval()\n",
    "    for split in ['train', 'val']:\n",
    "        losses = torch.zeros(eval_iters)\n",
    "        for k in range(eval_iters):\n",
    "            X, Y = get_batch(split)\n",
    "            _, loss = model(X, Y)\n",
    "            losses[k] = loss.item()\n",
    "        out[split] = losses.mean()\n",
    "    model.train()\n",
    "    return out"
   ]
  },
  {
   "cell_type": "markdown",
   "metadata": {},
   "source": [
    "# Attention"
   ]
  },
  {
   "cell_type": "code",
   "execution_count": null,
   "metadata": {},
   "outputs": [],
   "source": [
    "class CausalHead(nn.Module):\n",
    "\n",
    "    def __init__(self, config):\n",
    "        super().__init__()\n",
    "        self.k = nn.Linear(config.n_embd, config.head_size, bias=False) #(B, T, C) @ (C, H) -> (B, T, H)\n",
    "        self.q = nn.Linear(config.n_embd, config.head_size, bias=False)\n",
    "        self.v = nn.Linear(config.n_embd, config.head_size, bias=False)\n",
    "        self.register_buffer(\"cmask\", torch.tril(torch.ones([config.ctx_len, config.ctx_len])))#  define causal mask\n",
    "        self.head_size = config.head_size\n",
    "\n",
    "    def forward(self, x):\n",
    "        _, T, _ = x.shape\n",
    "\n",
    "        K = self.k(x)\n",
    "        Q = self.q(x)\n",
    "        V = self.v(x)\n",
    "\n",
    "        a = Q @ torch.transpose(K, -2, -1) * self.head_size**(-0.5) #(B, T, H) @ (B, H, T) -> (B, T, T)\n",
    "        torch.masked_fill(a, self.cmask[:T,:T]==0, float('-inf'))  #  apply mask\n",
    "        a = F.softmax(a, dim=-1)\n",
    "        return a @ V #(B, T, T) @ (B, T, H) -> (B, T, H)"
   ]
  },
  {
   "cell_type": "code",
   "execution_count": null,
   "metadata": {},
   "outputs": [],
   "source": [
    "class MultiHeadCausal(nn.Module):\n",
    "\n",
    "    def __init__(self, config):\n",
    "        super().__init__()\n",
    "        self.mha = nn.ModuleList([CausalHead() for _ in range(config.num_heads)])\n",
    "        self.lin = nn.Linear(config.n_embd, config.n_embd)\n",
    "        self.dp = nn.Dropout(config.dropout_p)\n",
    "\n",
    "    def forward(self, x):\n",
    "        a = torch.cat([h(x) for h in self.mha], dim=-1)\n",
    "        a = self.lin(a)\n",
    "        a = self.dp(a)\n",
    "        return a\n"
   ]
  },
  {
   "cell_type": "markdown",
   "metadata": {},
   "source": []
  },
  {
   "cell_type": "markdown",
   "metadata": {},
   "source": [
    "## Define decoder block"
   ]
  },
  {
   "cell_type": "code",
   "execution_count": 6,
   "metadata": {},
   "outputs": [],
   "source": [
    "class FF(nn.Module):\n",
    "\n",
    "    def __init__(self, config):\n",
    "        super().__init__()\n",
    "        self.l1 = nn.Linear(config.n_embd, 4*config.n_embd)\n",
    "        self.relu = nn.ReLU()\n",
    "        self.l2 = nn.Linear(4*config.n_embd, config.n_embd)\n",
    "        self.dp = nn.Dropout(config.dropout_p)\n",
    "\n",
    "    def forward(self, x):\n",
    "        x = self.l1(x)\n",
    "        x = self.relu(x)\n",
    "        x = self.l2(x)\n",
    "        x = self.dp(x)\n",
    "        return x\n",
    "\n",
    "class DecoderBlock(nn.Module):\n",
    "\n",
    "    def __init__(self, config):\n",
    "        super().__init__()\n",
    "        self.mha = MultiHeadCausal()\n",
    "        self.FF = FF()\n",
    "        self.ln1 = nn.LayerNorm(config.n_embd)\n",
    "        self.ln2 = nn.LayerNorm(config.n_embd)\n",
    "\n",
    "    def forward(self, x):\n",
    "        x = x + self.mha(self.ln1(x))\n",
    "        x = x + self.FF(self.ln2(x))\n",
    "        return x"
   ]
  },
  {
   "cell_type": "markdown",
   "metadata": {},
   "source": []
  },
  {
   "cell_type": "markdown",
   "metadata": {},
   "source": [
    "# Define model"
   ]
  },
  {
   "cell_type": "code",
   "execution_count": null,
   "metadata": {},
   "outputs": [],
   "source": [
    "class Decoder(nn.Module):\n",
    "\n",
    "    def __init__(self, config):\n",
    "        super().__init__()\n",
    "        self.blocks = nn.Sequential(*[DecoderBlock() for _ in range(n_layer)])\n",
    "        self.ln = nn.LayerNorm(config.n_embd)\n",
    "        self.lin = nn.Linear(config.n_embd, vocab_size)\n",
    "        self.wte = nn.Embedding(vocab_size, config.n_embd)\n",
    "        self.wpe = nn.Embedding(config.ctx_len, config.n_embd) #many possible choices for this, there are tradeoffs\n",
    "        self.L = nn.CrossEntropyLoss()\n",
    "        self.ctx_len = config.ctx_len\n",
    "\n",
    "\n",
    "    def forward(self, x, targets=[]):\n",
    "        #x is not (B, T, C) it's a sequence of tokenized inputs\n",
    "        #it is (B, T)\n",
    "        B, T = x.shape\n",
    "\n",
    "        x_tok = self.wte(x)\n",
    "        x_pos = self.wpe(torch.arange(T))\n",
    "        x = x_pos + x_tok #(B, T, C)\n",
    "\n",
    "        x = self.blocks(x)\n",
    "        x = self.ln(x)\n",
    "        logits = self.lin(x) #(B, T, vocab_size)\n",
    "\n",
    "        if len(targets)==0:\n",
    "            loss = None\n",
    "        else:\n",
    "            #compute xentropy loss...\n",
    "            B, T, C = logits.shape\n",
    "            targets = targets.view(B*T)\n",
    "            logits = logits.view(B*T, C)\n",
    "            loss = self.L(logits, targets)\n",
    "\n",
    "\n",
    "        return logits, loss\n",
    "\n",
    "    def generate(self, idx, max_len=128):\n",
    "\n",
    "        #generate output\n",
    "        #idx is (B, T)\n",
    "        for _ in range(max_len):\n",
    "            idx_cond = idx[:,-self.ctx_len:]\n",
    "            logits, _ = self(idx_cond)\n",
    "            logits = logits[:,-1,:] #  get last token\n",
    "\n",
    "            prob = F.softmax(logits, dim=-1)\n",
    "\n",
    "            next_token = torch.multinomial(prob, num_samples=1) #  greedy sample next token; many possibilities here (e.g., nucleus, probabilistic, etc.)\n",
    "\n",
    "            idx = torch.cat((idx, next_token), dim=1)\n",
    "\n",
    "        return idx"
   ]
  },
  {
   "cell_type": "markdown",
   "metadata": {},
   "source": [
    "# Optimizations"
   ]
  },
  {
   "cell_type": "markdown",
   "metadata": {},
   "source": [
    "## Embeddings"
   ]
  },
  {
   "cell_type": "code",
   "execution_count": null,
   "metadata": {},
   "outputs": [],
   "source": []
  },
  {
   "cell_type": "markdown",
   "metadata": {},
   "source": [
    "## MQA and GQA and SWA"
   ]
  },
  {
   "cell_type": "code",
   "execution_count": null,
   "metadata": {},
   "outputs": [],
   "source": []
  },
  {
   "cell_type": "markdown",
   "metadata": {},
   "source": []
  },
  {
   "cell_type": "markdown",
   "metadata": {},
   "source": [
    "## Normalization and activation functions"
   ]
  },
  {
   "cell_type": "code",
   "execution_count": null,
   "metadata": {},
   "outputs": [],
   "source": []
  },
  {
   "cell_type": "markdown",
   "metadata": {},
   "source": [
    "# Train the model"
   ]
  },
  {
   "cell_type": "markdown",
   "metadata": {},
   "source": []
  }
 ],
 "metadata": {
  "kernelspec": {
   "display_name": "Python 3",
   "language": "python",
   "name": "python3"
  },
  "language_info": {
   "codemirror_mode": {
    "name": "ipython",
    "version": 3
   },
   "file_extension": ".py",
   "mimetype": "text/x-python",
   "name": "python",
   "nbconvert_exporter": "python",
   "pygments_lexer": "ipython3",
   "version": "3.10.15"
  }
 },
 "nbformat": 4,
 "nbformat_minor": 2
}
